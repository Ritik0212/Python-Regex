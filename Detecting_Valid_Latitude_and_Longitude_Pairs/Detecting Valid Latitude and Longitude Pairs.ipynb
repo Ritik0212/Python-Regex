{
 "cells": [
  {
   "cell_type": "markdown",
   "metadata": {},
   "source": [
    "<img src=\"lat_long_1.PNG\">"
   ]
  },
  {
   "cell_type": "markdown",
   "metadata": {},
   "source": [
    "<img src=\"lat_long_2.PNG\">"
   ]
  },
  {
   "cell_type": "code",
   "execution_count": null,
   "metadata": {},
   "outputs": [],
   "source": [
    "[print('Valid') if __import__('re').match\\\n",
    " (r'^\\([+-]?(((\\d|[1-8]\\d)(\\.\\d+)?)|(90(\\.0+)?)), [+-]?(((\\d|[1-9]\\d|1[0-7]\\d)(\\.\\d+)?)|(180(\\.0+)?))\\)$',input())\\\n",
    " else print('Invalid') for _ in range(int(input()))]"
   ]
  }
 ],
 "metadata": {
  "kernelspec": {
   "display_name": "Python 3",
   "language": "python",
   "name": "python3"
  },
  "language_info": {
   "codemirror_mode": {
    "name": "ipython",
    "version": 3
   },
   "file_extension": ".py",
   "mimetype": "text/x-python",
   "name": "python",
   "nbconvert_exporter": "python",
   "pygments_lexer": "ipython3",
   "version": "3.7.3"
  }
 },
 "nbformat": 4,
 "nbformat_minor": 2
}
