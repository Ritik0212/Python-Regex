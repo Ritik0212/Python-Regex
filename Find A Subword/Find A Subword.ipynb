{
 "cells": [
  {
   "cell_type": "markdown",
   "metadata": {},
   "source": [
    "<img src=\"subword_1.PNG\">"
   ]
  },
  {
   "cell_type": "markdown",
   "metadata": {},
   "source": [
    "<img src=\"subword_2.PNG\">"
   ]
  },
  {
   "cell_type": "markdown",
   "metadata": {},
   "source": [
    "<img src=\"subword_3.PNG\">"
   ]
  },
  {
   "cell_type": "code",
   "execution_count": null,
   "metadata": {},
   "outputs": [],
   "source": [
    "import re\n",
    "n = int(input())\n",
    "sentences = []\n",
    "while(n):\n",
    "    sentences.append(input())\n",
    "    n -= 1\n",
    "\n",
    "q = int(input())\n",
    "\n",
    "while (q):\n",
    "    qs = input()\n",
    "    matches = 0\n",
    "    for i in sentences:\n",
    "        r = re.findall(r'\\w+'+qs+r'\\w+',i)\n",
    "        matches += len(r)\n",
    "    print(matches)\n",
    "    q -= 1\n"
   ]
  }
 ],
 "metadata": {
  "kernelspec": {
   "display_name": "Python 3",
   "language": "python",
   "name": "python3"
  },
  "language_info": {
   "codemirror_mode": {
    "name": "ipython",
    "version": 3
   },
   "file_extension": ".py",
   "mimetype": "text/x-python",
   "name": "python",
   "nbconvert_exporter": "python",
   "pygments_lexer": "ipython3",
   "version": "3.7.3"
  }
 },
 "nbformat": 4,
 "nbformat_minor": 2
}
