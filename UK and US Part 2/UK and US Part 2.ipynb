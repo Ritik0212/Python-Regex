{
 "cells": [
  {
   "cell_type": "markdown",
   "metadata": {},
   "source": [
    "<img src=\"UK and US Part 2_1.PNG\">"
   ]
  },
  {
   "cell_type": "markdown",
   "metadata": {},
   "source": [
    "<img src=\"UK and US Part 2_2.PNG\">"
   ]
  },
  {
   "cell_type": "code",
   "execution_count": null,
   "metadata": {},
   "outputs": [],
   "source": [
    "import re\n",
    "\n",
    "st = ''\n",
    "for _ in range(int(input())):\n",
    "    st += ' '+ input()\n",
    "\n",
    "for _ in range(int(input())):\n",
    "    c = input()\n",
    "    catches = re.findall(r'(\\w*)our(\\w*)',c)\n",
    "    print(len(re.findall((r'\\b'+catches[0][0]+r'ou?r'+catches[0][1]+r'\\b'),st)))"
   ]
  }
 ],
 "metadata": {
  "kernelspec": {
   "display_name": "Python 3",
   "language": "python",
   "name": "python3"
  },
  "language_info": {
   "codemirror_mode": {
    "name": "ipython",
    "version": 3
   },
   "file_extension": ".py",
   "mimetype": "text/x-python",
   "name": "python",
   "nbconvert_exporter": "python",
   "pygments_lexer": "ipython3",
   "version": "3.7.3"
  }
 },
 "nbformat": 4,
 "nbformat_minor": 2
}
