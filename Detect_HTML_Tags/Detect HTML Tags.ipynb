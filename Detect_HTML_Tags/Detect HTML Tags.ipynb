{
 "cells": [
  {
   "cell_type": "markdown",
   "metadata": {},
   "source": [
    "<img src=\"html_tags_1.PNG\">"
   ]
  },
  {
   "cell_type": "markdown",
   "metadata": {},
   "source": [
    "<img src=\"html_tags_2.PNG\">"
   ]
  },
  {
   "cell_type": "code",
   "execution_count": null,
   "metadata": {},
   "outputs": [],
   "source": [
    "# n = int(input())\n",
    "# l = []\n",
    "# while(n):\n",
    "#     k = input()\n",
    "#     k = re.findall(r'<\\s*(\\w+)',k)\n",
    "#     l = l + k\n",
    "#     n -= 1\n",
    "# l = list(set(l))\n",
    "# l.sort()\n",
    "# print(';'.join(l))\n",
    "\n",
    "print(';'.join(sorted(set.union(*[set(__import__(\"re\").findall(r'<\\s*(\\w+)',input())) for _ in range(int(input()))]))))"
   ]
  }
 ],
 "metadata": {
  "kernelspec": {
   "display_name": "Python 3",
   "language": "python",
   "name": "python3"
  },
  "language_info": {
   "codemirror_mode": {
    "name": "ipython",
    "version": 3
   },
   "file_extension": ".py",
   "mimetype": "text/x-python",
   "name": "python",
   "nbconvert_exporter": "python",
   "pygments_lexer": "ipython3",
   "version": "3.7.3"
  }
 },
 "nbformat": 4,
 "nbformat_minor": 2
}
